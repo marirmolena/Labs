{
 "cells": [
  {
   "cell_type": "markdown",
   "metadata": {},
   "source": [
    "In the cell below, create a Python function that wraps your previous solution for the Bag of Words lab.\n",
    "\n",
    "Requirements:\n",
    "\n",
    "1. Your function should accept the following parameters:\n",
    "    * `docs` [REQUIRED] - array of document paths.\n",
    "    * `stop_words` [OPTIONAL] - array of stop words. The default value is an empty array.\n",
    "\n",
    "1. Your function should return a Python object that contains the following:\n",
    "    * `bag_of_words` - array of strings of normalized unique words in the corpus.\n",
    "    * `term_freq` - array of the term-frequency vectors."
   ]
  },
  {
   "cell_type": "code",
   "execution_count": 9,
   "metadata": {},
   "outputs": [],
   "source": [
    "import re"
   ]
  },
  {
   "cell_type": "code",
   "execution_count": 15,
   "metadata": {},
   "outputs": [],
   "source": [
    "def get_bow_from_docs(docs, stop_words=[]):\n",
    "    \n",
    "# In the function, first define the variables you will use such as `corpus`, `bag_of_words`, and `term_freq`.\n",
    "    \n",
    "    \"\"\"\n",
    "    Loop `docs` and read the content of each doc into a string in `corpus`.\n",
    "    Remember to convert the doc content to lowercases and remove punctuation.\n",
    "    \"\"\"\n",
    "\n",
    "    \"\"\"\n",
    "    Loop `corpus`. Append the terms in each doc into the `bag_of_words` array. The terms in `bag_of_words` \n",
    "    should be unique which means before adding each term you need to check if it's already added to the array.\n",
    "    In addition, check if each term is in the `stop_words` array. Only append the term to `bag_of_words`\n",
    "    if it is not a stop word.\n",
    "    \"\"\"\n",
    "\n",
    "       \n",
    "    \"\"\"\n",
    "    Loop `corpus` again. For each doc string, count the number of occurrences of each term in `bag_of_words`. \n",
    "    Create an array for each doc's term frequency and append it to `term_freq`.\n",
    "    \"\"\"\n",
    "\n",
    "    # Now return your output as an object\n",
    "    return {\n",
    "        \"bagOfWords\": bagOfWords,\n",
    "        \"termFreq\": termFreq\n",
    "    }\n",
    "    "
   ]
  },
  {
   "cell_type": "markdown",
   "metadata": {},
   "source": [
    "Test your function without stop words. You should see the output like below:\n",
    "\n",
    "```{'bag_of_words': ['ironhack', 'is', 'cool', 'i', 'love', 'am', 'a', 'student', 'at'], 'term_freq': [[1, 1, 1, 0, 0, 0, 0, 0, 0], [1, 0, 0, 1, 1, 0, 0, 0, 0], [1, 0, 0, 1, 0, 1, 1, 1, 1]]}```"
   ]
  },
  {
   "cell_type": "code",
   "execution_count": 16,
   "metadata": {},
   "outputs": [],
   "source": [
    "# Define doc paths array\n",
    "docs = ['doc1.txt',\n",
    "       'doc2.txt',\n",
    "       'doc3.txt']"
   ]
  },
  {
   "cell_type": "code",
   "execution_count": 17,
   "metadata": {},
   "outputs": [
    {
     "ename": "NameError",
     "evalue": "name 'bagOfWords' is not defined",
     "output_type": "error",
     "traceback": [
      "\u001b[1;31m---------------------------------------------------------------------------\u001b[0m",
      "\u001b[1;31mNameError\u001b[0m                                 Traceback (most recent call last)",
      "\u001b[1;32m<ipython-input-17-d28ad2c12c0c>\u001b[0m in \u001b[0;36m<module>\u001b[1;34m\u001b[0m\n\u001b[0;32m      1\u001b[0m \u001b[1;31m# Obtain BoW from your function\u001b[0m\u001b[1;33m\u001b[0m\u001b[1;33m\u001b[0m\u001b[1;33m\u001b[0m\u001b[0m\n\u001b[1;32m----> 2\u001b[1;33m \u001b[0mbow\u001b[0m \u001b[1;33m=\u001b[0m \u001b[0mget_bow_from_docs\u001b[0m\u001b[1;33m(\u001b[0m\u001b[0mdocs\u001b[0m\u001b[1;33m)\u001b[0m\u001b[1;33m\u001b[0m\u001b[1;33m\u001b[0m\u001b[0m\n\u001b[0m",
      "\u001b[1;32m<ipython-input-15-7c98b526b14b>\u001b[0m in \u001b[0;36mget_bow_from_docs\u001b[1;34m(docs, stop_words)\u001b[0m\n\u001b[0;32m     23\u001b[0m     \u001b[1;31m# Now return your output as an object\u001b[0m\u001b[1;33m\u001b[0m\u001b[1;33m\u001b[0m\u001b[1;33m\u001b[0m\u001b[0m\n\u001b[0;32m     24\u001b[0m     return {\n\u001b[1;32m---> 25\u001b[1;33m         \u001b[1;34m\"bagOfWords\"\u001b[0m\u001b[1;33m:\u001b[0m \u001b[0mbagOfWords\u001b[0m\u001b[1;33m,\u001b[0m\u001b[1;33m\u001b[0m\u001b[1;33m\u001b[0m\u001b[0m\n\u001b[0m\u001b[0;32m     26\u001b[0m         \u001b[1;34m\"termFreq\"\u001b[0m\u001b[1;33m:\u001b[0m \u001b[0mtermFreq\u001b[0m\u001b[1;33m\u001b[0m\u001b[1;33m\u001b[0m\u001b[0m\n\u001b[0;32m     27\u001b[0m     }\n",
      "\u001b[1;31mNameError\u001b[0m: name 'bagOfWords' is not defined"
     ]
    }
   ],
   "source": [
    "# Obtain BoW from your function\n",
    "bow = get_bow_from_docs(docs)"
   ]
  },
  {
   "cell_type": "code",
   "execution_count": 13,
   "metadata": {},
   "outputs": [
    {
     "ename": "NameError",
     "evalue": "name 'bow' is not defined",
     "output_type": "error",
     "traceback": [
      "\u001b[1;31m---------------------------------------------------------------------------\u001b[0m",
      "\u001b[1;31mNameError\u001b[0m                                 Traceback (most recent call last)",
      "\u001b[1;32m<ipython-input-13-d21b77b069eb>\u001b[0m in \u001b[0;36m<module>\u001b[1;34m\u001b[0m\n\u001b[0;32m      1\u001b[0m \u001b[1;31m# Print BoW\u001b[0m\u001b[1;33m\u001b[0m\u001b[1;33m\u001b[0m\u001b[1;33m\u001b[0m\u001b[0m\n\u001b[1;32m----> 2\u001b[1;33m \u001b[0mprint\u001b[0m\u001b[1;33m(\u001b[0m\u001b[0mbow\u001b[0m\u001b[1;33m)\u001b[0m\u001b[1;33m\u001b[0m\u001b[1;33m\u001b[0m\u001b[0m\n\u001b[0m",
      "\u001b[1;31mNameError\u001b[0m: name 'bow' is not defined"
     ]
    }
   ],
   "source": [
    "# Print BoW\n",
    "print(bow)"
   ]
  },
  {
   "cell_type": "markdown",
   "metadata": {},
   "source": [
    "If your attempt above is successful, nice work done!\n",
    "\n",
    "Now test your function again with the stop words. In the previous lab we defined the stop words in a large array. In this lab, we'll import the stop words from Scikit-Learn."
   ]
  },
  {
   "cell_type": "code",
   "execution_count": 14,
   "metadata": {},
   "outputs": [
    {
     "name": "stdout",
     "output_type": "stream",
     "text": [
      "frozenset({'almost', 'ltd', 'anyhow', 'as', 'our', 'might', 'beyond', 'formerly', 'find', 'always', 'bill', 'everything', 'their', 'system', 'there', 'through', 'have', 'who', 'may', 'full', 'alone', 'below', 'five', 'serious', 'should', 'mostly', 'along', 'anywhere', 'bottom', 'fire', 'via', 'fill', 'some', 'well', 'also', 'never', 'towards', 'off', 'although', 'until', 'which', 'wherever', 'cant', 'give', 'everyone', 'they', 'thence', 'eg', 'whereby', 'thus', 'anyone', 'un', 'whoever', 'but', 'beforehand', 'already', 'now', 'both', 'interest', 'wherein', 'hasnt', 'besides', 'seem', 'much', 'back', 'keep', 'therein', 'others', 'across', 'six', 'amongst', 'against', 'co', 'whatever', 'nine', 'sincere', 'thru', 'being', 'one', 'amount', 'do', 'every', 'over', 'less', 'down', 'thereupon', 'any', 'whether', 'at', 'we', 'rather', 'ours', 'onto', 'nevertheless', 'for', 'whose', 'about', 'must', 'toward', 'before', 'ie', 'to', 'enough', 'no', 'fifteen', 'in', 'detail', 'had', 'is', 'thereby', 'everywhere', 'name', 'together', 'these', 'sixty', 'someone', 'put', 'him', 'becomes', 'nowhere', 'noone', 'part', 'sometime', 'when', 'something', 'us', 'please', 'an', 'why', 'be', 'show', 'not', 'empty', 'elsewhere', 'above', 'between', 'inc', 'though', 'cannot', 'what', 'than', 'another', 'least', 'whither', 'else', 'next', 'too', 'was', 'seeming', 'the', 'yourselves', 'somewhere', 'most', 'forty', 'of', 'several', 'a', 'none', 'themselves', 'due', 'again', 'thin', 'his', 'made', 'are', 'meanwhile', 'would', 'eleven', 'under', 'latterly', 'by', 'yet', 'call', 'became', 'whereafter', 'nor', 'my', 'cry', 'con', 'he', 'hereupon', 'seemed', 'hereby', 'many', 'thick', 'since', 'can', 'and', 'yours', 'yourself', 'such', 'herein', 'herself', 'hundred', 'twelve', 'sometimes', 'itself', 'thereafter', 'you', 'same', 'if', 'seems', 'ever', 'front', 'last', 'found', 'ten', 'beside', 'were', 'ourselves', 'it', 'only', 'from', 'very', 'eight', 'either', 'amoungst', 'two', 'few', 'somehow', 'into', 'per', 'therefore', 'on', 'whence', 'de', 'further', 'hence', 'perhaps', 'latter', 'up', 'hereafter', 'within', 'third', 'behind', 'i', 'take', 'former', 'neither', 'or', 'me', 'otherwise', 'namely', 'so', 'see', 'describe', 'where', 'because', 'often', 'its', 'has', 'become', 'go', 'with', 'whereupon', 'them', 'get', 'four', 'becoming', 'your', 'myself', 'that', 'upon', 'afterwards', 'after', 'am', 'could', 'more', 'anything', 'however', 'three', 'whole', 'even', 'mill', 'whom', 'throughout', 'side', 'among', 'still', 'here', 'each', 'nobody', 'except', 'couldnt', 'will', 'then', 'mine', 'while', 'top', 'himself', 'her', 'whenever', 'whereas', 'twenty', 'anyway', 'indeed', 'during', 'how', 'first', 'hers', 'moreover', 'been', 'fifty', 'done', 'move', 'own', 're', 'etc', 'out', 'all', 'other', 'without', 'this', 'those', 'once', 'nothing', 'around', 'she'})\n"
     ]
    }
   ],
   "source": [
    "from sklearn.feature_extraction import stop_words\n",
    "print(stop_words.ENGLISH_STOP_WORDS)"
   ]
  },
  {
   "cell_type": "markdown",
   "metadata": {},
   "source": [
    "You should have seen a large list of words that looks like:\n",
    "\n",
    "```frozenset({'across', 'mine', 'cannot', ...})```\n",
    "\n",
    "`frozenset` is a type of Python object that is immutable. In this lab you can use it just like an array without conversion."
   ]
  },
  {
   "cell_type": "markdown",
   "metadata": {},
   "source": [
    "Next, test your function with supplying `stop_words.ENGLISH_STOP_WORDS` as the second parameter."
   ]
  },
  {
   "cell_type": "code",
   "execution_count": 8,
   "metadata": {},
   "outputs": [],
   "source": [
    "bow = get_bow_from_docs(docs, stop_words=stop_words.ENGLISH_STOP_WORDS)"
   ]
  },
  {
   "cell_type": "code",
   "execution_count": null,
   "metadata": {},
   "outputs": [],
   "source": [
    "print(bow)"
   ]
  },
  {
   "cell_type": "markdown",
   "metadata": {},
   "source": [
    "You should have seen:\n",
    "\n",
    "```{'bag_of_words': ['ironhack', 'cool', 'love', 'student'], 'term_freq': [[1, 1, 0, 0], [1, 0, 1, 0], [1, 0, 0, 1]]}```"
   ]
  }
 ],
 "metadata": {
  "kernelspec": {
   "display_name": "Python 3",
   "language": "python",
   "name": "python3"
  },
  "language_info": {
   "codemirror_mode": {
    "name": "ipython",
    "version": 3
   },
   "file_extension": ".py",
   "mimetype": "text/x-python",
   "name": "python",
   "nbconvert_exporter": "python",
   "pygments_lexer": "ipython3",
   "version": "3.7.3"
  }
 },
 "nbformat": 4,
 "nbformat_minor": 4
}
